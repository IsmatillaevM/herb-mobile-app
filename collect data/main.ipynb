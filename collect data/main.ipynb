{
 "cells": [
  {
   "cell_type": "code",
   "execution_count": 2,
   "metadata": {},
   "outputs": [],
   "source": [
    "import pandas as pd\n",
    "import requests\n",
    "from bs4 import BeautifulSoup \n"
   ]
  },
  {
   "cell_type": "code",
   "execution_count": 27,
   "metadata": {},
   "outputs": [],
   "source": [
    "link = 'https://uz.wikipedia.org/wiki/Turkum:Dorivor_o%CA%BBsimliklar'\n",
    "\n",
    "req =  requests.get(link).text\n",
    "soup = BeautifulSoup(req, 'html.parser')\n",
    "div_id = soup.find(\"div\", {\"id\": \"mw-pages\"}).find_all('a')\n",
    "data = [\n",
    "\n",
    "    {\n",
    "        'title': i['title'],\n",
    "        \n",
    "        'link': f'https://uz.wikipedia.org'+ i['href']\n",
    "    }\n",
    "    \n",
    "     for i in div_id\n",
    "\n",
    "]\n"
   ]
  },
  {
   "cell_type": "code",
   "execution_count": 28,
   "metadata": {},
   "outputs": [],
   "source": [
    "df = pd.DataFrame(data)\n"
   ]
  },
  {
   "cell_type": "code",
   "execution_count": 29,
   "metadata": {},
   "outputs": [],
   "source": [
    "df['description'] = df['link'].apply(lambda x: BeautifulSoup(requests.get(x).text, 'html.parser').find('p').text)\n"
   ]
  },
  {
   "cell_type": "code",
   "execution_count": 30,
   "metadata": {},
   "outputs": [],
   "source": [
    "def get_img(link):\n",
    "    try:\n",
    "        page = requests.get(link)\n",
    "        imgPath = page.text.split('og:image\" content=\"')[1].split('\"')[0]\n",
    "        \n",
    "        return imgPath\n",
    "    except:\n",
    "        return None\n",
    "    \n",
    "df['img_link'] = df['link'].apply(get_img)"
   ]
  },
  {
   "cell_type": "code",
   "execution_count": 32,
   "metadata": {},
   "outputs": [],
   "source": [
    "df.to_excel('data.xlsx', index=False)"
   ]
  },
  {
   "cell_type": "code",
   "execution_count": 8,
   "metadata": {},
   "outputs": [],
   "source": [
    "import pandas as pd\n",
    "df = pd.read_excel('resul_data.xlsx')\n",
    "df.symptom = df.symptom.apply(lambda x: x.replace('[', '')\n",
    "                                .replace(']', '')\n",
    "                                .replace(\"'\", '')\n",
    "                                .replace(',', ''))\n",
    "df.to_excel('result_data2.xlsx', index=False)"
   ]
  },
  {
   "cell_type": "code",
   "execution_count": 1,
   "metadata": {},
   "outputs": [],
   "source": [
    "import pandas as pd\n",
    "import sqlite3\n",
    "df = pd.read_excel('new_data.xlsx')\n",
    "\n",
    "conn = sqlite3.connect('data.db')\n",
    "df[['title', 'description','img_link','disease']].to_sql('data', conn, index=False, if_exists='replace')\n",
    "\n",
    "conn.close()"
   ]
  },
  {
   "cell_type": "code",
   "execution_count": 2,
   "metadata": {},
   "outputs": [
    {
     "data": {
      "text/plain": [
       "array(['astma', 'bronxit', 'ekzema', 'dermatit', \"teri yallig'lanishi\",\n",
       "       'kuyish', 'oshqozon buzilishi', \"oshqozon yallig'lanishi\",\n",
       "       'ich qotishi', \"qorin dam bo'lishi\", \"qorin og'rig'i\", 'qusish',\n",
       "       \"qorin bo'shlig'i o'smalari\", \"ishtaha yo'qligi\",\n",
       "       \"ovqat hazm bo'lmasligi\", 'teridagi toshmalar',\n",
       "       \"og'izdagi toshlar\", 'teri qurishi', 'qichima',\n",
       "       \"o'pka yallig'lanishi\", 'diareya', 'xoletsistit', 'xolestaz',\n",
       "       'bod', 'qon ketishi', 'sinusit', \"yallig'lanish\",\n",
       "       \"to'qimalar shikastlanishi\", 'yurak gipertrofiyasi',\n",
       "       'nafas qisilishi', 'yurak urishi zaiflashuvi', \"yo'tal\", 'gripp',\n",
       "       \"tomoq og'rig'i\", 'ovqat hazm qilish buzilishi',\n",
       "       'qondagi xolesterin', 'yuqori qon bosimi', 'gepatit c', 'anemiya',\n",
       "       'qandli diabet', 'gepatit', \"ishtaha yo'qolishi\", 'nafas qisishi',\n",
       "       'bronxial astma', 'istma', 'oshqozon yarasi', 'semizlik',\n",
       "       'saraton', 'diabet', 'charchoq', 'chashma', 'qalqonsimon bez',\n",
       "       \"zamb'rug'lar\", \"nafas yo'llari kasalliklari\",\n",
       "       \"bo'g'imlar va mushaklar og'rig'i\",\n",
       "       \"oshqozon-ichak yo'llarining yallig'lanishi\", \"bosh og'rig'i\",\n",
       "       'migren', 'qon bosimi', 'diyetada foydali', 'teri kasalliklari',\n",
       "       'yara uchun', 'imunitetni kuchaytirish', 'qon tomirlari',\n",
       "       \"ko'krak sistemasini yaxshilash\", 'organizmni faollishtiradi',\n",
       "       'konsentratsiyani yaxshilash',\n",
       "       'yurak-qon tomir kasalliklari xavfini kamaytirish',\n",
       "       'xolesterin darajasini pasaytirish', \"antioksidant ta'siri\",\n",
       "       'insulin', 'yurak kasalliklari', 'revmatizm', \"yalig'lanish\",\n",
       "       'mushak spazmi', 'ichak muammolari',\n",
       "       \"siydik yo'llari infiktsiyasi\", 'yurak kasalliklarini  davolash',\n",
       "       'siydik haydash', 'kemiruvchilarga qarshi zaharli modda',\n",
       "       'xolisistet', 'xolelitiyoz', 'sariq kasal', 'gastrit', 'kolit',\n",
       "       'sistit', 'ishtahani ochish', 'ovqat hazm qilish',\n",
       "       'ich qotishi va meteorizmni oldini olishda ishlatiladi',\n",
       "       'anesteziya (mahalliy)', 'uyqusizlik va nerv buzilishlari',\n",
       "       \"revmatik og'riqlar\", 'psixoemotsional ozodlik',\n",
       "       \"ma'naviy amaliyotlar\", \"bog'liqlikni davolash\",\n",
       "       \"naфas yo'llari kasalliklari\", 'allergiya', 'energiyani oshirish',\n",
       "       \"nafas yo'llari yallig'lanishi\", 'mushaklarning zaifligi',\n",
       "       'nerv tizimi kasalliklari', 'xotirani yaxshilash',\n",
       "       'qon aylanishini yaxshilash', 'eshitish qobiliyatini yaxshilash',\n",
       "       'immunitetni mustahkamlash', \"ko'rish qobiliyatini yaxshilash\",\n",
       "       'qon shakarini boshqarish', 'kognitiv funksiyalarni yaxshilash',\n",
       "       \"vazn yo'qotish\", 'qabziyat', 'hazm qilish tizimi yaxshilash',\n",
       "       \"ko'ngil aynish\", 'shamollash', 'yurak-qon tomir kasalliklari',\n",
       "       \"yallig'lanishga qarshi\", 'qon bosimini pasaytirish',\n",
       "       'asab tizimini tinchlantirish', 'uyqusizlik',\n",
       "       \"teri yallig'lanishlari\", \"siydik yo'llari infektsiyalari\",\n",
       "       \"yurak-qon tomir sog'lig'ini yaxshilash\", 'gidratatsiya',\n",
       "       'metabolizmni tezlashtirish', 'hazm qilishni yaxshilash',\n",
       "       'kolesterolni pasaytirish', \"yurak sog'lig'ini yaxshilash\",\n",
       "       'ovqat hazm qilishni yaxshilash', 'immunomodulyator',\n",
       "       'radioprotektiv', 'antiallergik', 'qon tomirlarini kengaytirish',\n",
       "       'yurak tizimini barqarorlashtiradi', 'antioksidant',\n",
       "       \"og'riq qoldiruvchi\", 'antiepileptik', 'antidepressiv',\n",
       "       'antineoplastik', 'antitumor', 'gepatoprotektiv',\n",
       "       'shamollarni chiqarad', \"tanani sepkil va oq dog'lardan tozalaydi\",\n",
       "       \"ko'ngil aynishi va qayt qilishni to'xtatad\",\n",
       "       'suvli ich ketishini to‘xtatadi',\n",
       "       \"sovuq quloq og'rig'iga yordam beradi\", 'karlik',\n",
       "       'bachadon kasalliklarida', 'kamqonlik', 'altsgeymer kasallig',\n",
       "       'jigar hujayralarining etil spirti bilan zararlanishini oldini oladi',\n",
       "       'prokoagulyant', \"yo'g'on ichak saratoni\",\n",
       "       \"terining yallig'lanish kasalliklarida\",\n",
       "       \"teri osti to'qimalarini shakillantirishda\", 'gemorroy',\n",
       "       \"tizza bo'g'imlarida og'riq\", 'radikulit',\n",
       "       'infektsiyalarga qarshi', 'ruhiy tinchlik', 'teri muammolari',\n",
       "       'qon tozalash', 'stress', 'tinchlik beruvchi',\n",
       "       'uyquga yordam berish', \"og'riqni engillashtirish\",\n",
       "       'allergiyaga qarshi', 'antiseptik', \"ko'z sog'lig'ini yaxshilash\",\n",
       "       'stressga qarshi', 'bakteriyalarga qarshi',\n",
       "       \"menstrual og'riqlarni engillashtirish\", \"stressli bosh og'rig'i\",\n",
       "       'asabiylashish', 'bel og’rig’i', \"g'azabni tarqatish\",\n",
       "       'asabiylashish  va  tashvishda', \"shishish va ko'karish\",\n",
       "       'yurakni tinchlantiradi', 'xotirani mustahkamlash',\n",
       "       'nutqni tiklash', 'duduqligi borlar uchun', 'qizamiq', 'bezgak',\n",
       "       'teri infektsiyalari', 'mushak kramplari', \"o'pka xo'ppozi\",\n",
       "       'isitma', 'laksatif', 'tish ogʻrigʻi', 'tomoq kasalliklari',\n",
       "       \"og'iz bo'shlig'i kasalliklari\", 'bosh ogʻrigʻi', 'angina',\n",
       "       'moxov', 'uyqu kasalliklari', 'ishtahani ochuvchi', 'axiliya',\n",
       "       'dispeptik alomatlar bilan kechadigan ovqat hazm qilish buzilishi',\n",
       "       'ishtahani yaxshilash', \"ko'z kasalliklari\", 'alkogolizm',\n",
       "       'oshqozon kasalliklari', 'tinchlantiruvchi', 'bolalarda qusish',\n",
       "       'ko’ngil aynish', 'virusli kasalliklar', 'immunitetni oshirishda',\n",
       "       'ogʻiz boʻshligʻi kasalliklari', 'tomoq yalligʻlanishi',\n",
       "       'ishtahani ochishda', 'aterosklerozda',\n",
       "       'qondagi xolesterin miqdorini kamaytirishda',\n",
       "       'qon tomirlar holatini meʼyorga solish', 'yelkada ogʻriqlari',\n",
       "       'surunkali bod xastaligi', 'bosh aylanishi', 'koʻngilni aynitishi',\n",
       "       'ichni surishi', \"havo yo'llarini  tozalash\", 'buyrak kasalligi',\n",
       "       \"gaz hosil bo'lishini oshirish\",\n",
       "       'oshqozon-ichak trakti faoliyatini yaxshilash',\n",
       "       'ishtahani oshirish', 'xotira muammolari',\n",
       "       'miya faoliyatini yaxshilaydi', 'shishlarni',\n",
       "       'zaharli hasharotlar chaqishida', 'sariq kasali zoʻrayishi',\n",
       "       'oʻt pufagidagi tosh', 'koʻz shamollashi',\n",
       "       'nafas yoʻllarini ochish', 'yaralarni bitirish va saraton kasalli',\n",
       "       'buyrak kasalliklari', 'oshqozon ichak yoʻllari',\n",
       "       'ogʻiz boʻshligʻi', 'oʻpka illatlarida', 'uchuq', 'eshakem',\n",
       "       'quloq osti shishlari', 'quloq og‘rig’i', 'tish og‘riq',\n",
       "       'ko‘kyo‘tal', 'sil', 'surunkali gastrit', 'buyrak yallig‘lanishi',\n",
       "       'sariq kasalligi', 'bavosil',\n",
       "       'oshqozondan qon oqishini to‘xtatish'], dtype=object)"
      ]
     },
     "execution_count": 2,
     "metadata": {},
     "output_type": "execute_result"
    }
   ],
   "source": [
    "df.symptom = df.symptom.apply(lambda x: x.replace('[', ''))\n",
    "df.symptom = df.symptom.apply(lambda x: x.replace(']', ''))\n",
    "\n",
    "symptoms = df.symptom.str.split(',').explode().str.strip().unique()\n",
    "symptoms"
   ]
  },
  {
   "cell_type": "code",
   "execution_count": 5,
   "metadata": {},
   "outputs": [],
   "source": [
    "conn = sqlite3.connect('data.db')\n",
    "pd.DataFrame({\n",
    "    'id': range(1, len(symptoms)+1),\n",
    "    'symptom': symptoms\n",
    "\n",
    "}).to_sql('symptoms', conn, index=False, if_exists='replace')\n",
    "conn.close()"
   ]
  },
  {
   "cell_type": "code",
   "execution_count": 8,
   "metadata": {},
   "outputs": [],
   "source": []
  },
  {
   "cell_type": "code",
   "execution_count": null,
   "metadata": {},
   "outputs": [],
   "source": []
  }
 ],
 "metadata": {
  "kernelspec": {
   "display_name": "base",
   "language": "python",
   "name": "python3"
  },
  "language_info": {
   "codemirror_mode": {
    "name": "ipython",
    "version": 3
   },
   "file_extension": ".py",
   "mimetype": "text/x-python",
   "name": "python",
   "nbconvert_exporter": "python",
   "pygments_lexer": "ipython3",
   "version": "3.11.7"
  }
 },
 "nbformat": 4,
 "nbformat_minor": 2
}
